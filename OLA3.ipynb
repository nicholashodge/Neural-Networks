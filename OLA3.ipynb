{
 "cells": [
  {
   "cell_type": "markdown",
   "id": "265c5e37-7c7a-41b5-a83a-b8c904ae4901",
   "metadata": {},
   "source": [
    "# Nicholas Hodge<br> OLA 3"
   ]
  },
  {
   "cell_type": "markdown",
   "id": "db0caea6-9cc0-40df-8098-d81e6d3fd6b9",
   "metadata": {},
   "source": [
    "### Problem 1"
   ]
  },
  {
   "cell_type": "code",
   "execution_count": 102,
   "id": "20a08acb-6e35-45f5-b6b8-ce82f6f4c952",
   "metadata": {},
   "outputs": [],
   "source": [
    "import pandas\n",
    "import numpy as np\n",
    "import tensorflow.keras as keras\n",
    "import tensorflow as tf\n",
    "import matplotlib.pyplot as plt\n",
    "%matplotlib inline\n",
    "\n",
    "data = np.array(pandas.read_table(\n",
    "    \"https://www.cs.mtsu.edu/~jphillips/courses/CSCI4850-5850/public/iris-data.txt\", \n",
    "    delim_whitespace=True,header=None))\n",
    "\n",
    "X = data[:,0:4]\n",
    "labels = data[:,4]\n",
    "Y = keras.utils.to_categorical(labels, len(np.unique(labels)))\n",
    "\n",
    "input_shape = X.shape[1:]\n",
    "input_tensor = keras.layers.Input(shape=input_shape,\n",
    "                                  name=\"input\")\n",
    "output_shape = Y.shape[1:]\n",
    "dense_layer = keras.layers.Dense(output_shape[0],\n",
    "                                activation=keras.activations.sigmoid,\n",
    "                                name=\"dense_layer\")\n",
    "output_tensor = dense_layer(input_tensor)\n",
    "\n",
    "model = keras.Model(input_tensor, output_tensor)\n",
    "\n",
    "model.compile(loss=keras.losses.mean_squared_error,\n",
    "              optimizer=keras.optimizers.SGD(learning_rate=0.01),\n",
    "              metrics=[keras.metrics.categorical_accuracy])\n",
    "\n",
    "#output_layer_neti = np.dot(np.float32(X[0:5,:]), \n",
    "#                           model.get_weights()[0])+model.get_weights()[1]\n",
    "\n",
    "#1.0 / (1.0+np.exp(-1.0 * output_layer_neti))\n",
    "\n",
    "weights = model.get_weights()[0]\n",
    "bias_weights = model.get_weights()[1]\n",
    "\n",
    "output_neti = np.dot(np.float32(X[0:1]), weights)+bias_weights\n",
    "\n",
    "output_acts = 1.0 / (1.0 + np.exp(-output_neti))\n",
    "error = output_acts - np.float32(Y[0:1])\n",
    "\n",
    "deriv = 2.0 * np.exp(-output_neti) / np.power(1.0+np.exp(-output_neti),2.0)\n",
    "deltas = error*deriv*(1.0/len(bias_weights))\n",
    "\n",
    "w_updates = np.outer(np.float32(X[0:1]),deltas)\n",
    "eta = np.float32(0.01)\n",
    "history = model.fit(X[0:1],Y[0:1], batch_size=1,epochs=1,verbose=0)\n",
    "\n",
    "batch_size = 16\n",
    "epochs = 5000\n",
    "validation_split = 0.5\n",
    "\n",
    "history = model.fit(X, Y,\n",
    "                    batch_size = batch_size,\n",
    "                    epochs = epochs,\n",
    "                    verbose = 0,\n",
    "                    validation_split=validation_split)"
   ]
  },
  {
   "cell_type": "code",
   "execution_count": 103,
   "id": "2bb2ee26-11bf-4020-9507-543ed45c266e",
   "metadata": {},
   "outputs": [
    {
     "data": {
      "image/png": "[encoded data removed]",
      "text/plain": [
       "<Figure size 432x288 with 2 Axes>"
      ]
     },
     "metadata": {
      "needs_background": "light"
     },
     "output_type": "display_data"
    },
    {
     "name": "stdout",
     "output_type": "stream",
     "text": [
      "5/5 [==============================] - 0s 1ms/step - loss: 0.0818 - categorical_accuracy: 0.9600\n",
      "Test loss: 0.08181281387805939\n",
      "Test accuracy: 0.9599999785423279\n"
     ]
    }
   ],
   "source": [
    "plt.figure(1)\n",
    "#accuracy\n",
    "plt.subplot(211)\n",
    "plt.plot(history.history['categorical_accuracy'])\n",
    "plt.plot(history.history['val_categorical_accuracy'])\n",
    "plt.title('model accuracy')\n",
    "plt.ylabel('accuracy')\n",
    "plt.xlabel('epoch')\n",
    "plt.legend(['train', 'val'], loc='upper left')\n",
    "#loss\n",
    "plt.subplot(212)\n",
    "plt.plot(history.history['loss'])\n",
    "plt.plot(history.history['val_loss'])\n",
    "plt.title('model loss')\n",
    "plt.ylabel('loss')\n",
    "plt.xlabel('epoch')\n",
    "plt.legend(['train', 'val'], loc='upper left')\n",
    "\n",
    "plt.tight_layout()\n",
    "plt.show()\n",
    "\n",
    "score = model.evaluate(X, Y, verbose=1)\n",
    "print('Test loss:', score[0])\n",
    "print('Test accuracy:', score[1])"
   ]
  },
  {
   "cell_type": "markdown",
   "id": "66ccfb03-02fa-49f5-8617-927852b6abfa",
   "metadata": {},
   "source": [
    "### Problem 2"
   ]
  },
  {
   "cell_type": "code",
   "execution_count": 104,
   "id": "65c4f764-8351-47a4-bc96-a74774eab6fb",
   "metadata": {},
   "outputs": [],
   "source": [
    "data = np.array(pandas.read_table(\n",
    "    \"https://www.cs.mtsu.edu/~jphillips/courses/CSCI4850-5850/public/WDBC.txt\", \n",
    "    delim_whitespace=True,header=None))\n",
    "\n",
    "X = data[:,0:30]\n",
    "labels = data[:,30]\n",
    "Y = keras.utils.to_categorical(labels, len(np.unique(labels)))\n",
    "\n",
    "input_shape = X.shape[1:]\n",
    "input_tensor = keras.layers.Input(shape=input_shape,\n",
    "                                  name=\"input\")\n",
    "output_shape = Y.shape[1:]\n",
    "dense_layer = keras.layers.Dense(output_shape[0],\n",
    "                                activation=keras.activations.sigmoid,\n",
    "                                name=\"dense_layer\")\n",
    "output_tensor = dense_layer(input_tensor)\n",
    "\n",
    "model = keras.Model(input_tensor, output_tensor)\n",
    "\n",
    "model.compile(loss=keras.losses.mean_squared_error,\n",
    "              optimizer=keras.optimizers.SGD(learning_rate=0.01),\n",
    "              metrics=[keras.metrics.categorical_accuracy])\n",
    "\n",
    "weights = model.get_weights()[0]\n",
    "bias_weights = model.get_weights()[1]\n",
    "\n",
    "output_neti = np.dot(np.float32(X[0:1]), weights)+bias_weights\n",
    "\n",
    "output_acts = 1.0 / (1.0 + np.exp(-output_neti))\n",
    "error = output_acts - np.float32(Y[0:1])\n",
    "\n",
    "deriv = 2.0 * np.exp(-output_neti) / np.power(1.0+np.exp(-output_neti),2.0)\n",
    "deltas = error*deriv*(1.0/len(bias_weights))\n",
    "\n",
    "w_updates = np.outer(np.float32(X[0:1]),deltas)\n",
    "eta = np.float32(0.01)\n",
    "history = model.fit(X[0:1],Y[0:1], batch_size=1,epochs=1,verbose=0)\n",
    "\n",
    "batch_size = 16\n",
    "epochs = 3000\n",
    "validation_split = 0.5\n",
    "\n",
    "history = model.fit(X, Y,\n",
    "                    batch_size = batch_size,\n",
    "                    epochs = epochs,\n",
    "                    verbose = 0,\n",
    "                    validation_split=validation_split)"
   ]
  },
  {
   "cell_type": "code",
   "execution_count": 105,
   "id": "315e8cef-068a-4e7b-bbc3-74bc20327a80",
   "metadata": {},
   "outputs": [
    {
     "data": {
      "image/png": "[encoded data removed]",
      "text/plain": [
       "<Figure size 432x288 with 2 Axes>"
      ]
     },
     "metadata": {
      "needs_background": "light"
     },
     "output_type": "display_data"
    },
    {
     "name": "stdout",
     "output_type": "stream",
     "text": [
      "18/18 [==============================] - 0s 1ms/step - loss: 0.0641 - categorical_accuracy: 0.9366\n",
      "Test loss: 0.06409724056720734\n",
      "Test accuracy: 0.9366196990013123\n"
     ]
    }
   ],
   "source": [
    "plt.figure(1)\n",
    "#accuracy\n",
    "plt.subplot(211)\n",
    "plt.plot(history.history['categorical_accuracy'])\n",
    "plt.plot(history.history['val_categorical_accuracy'])\n",
    "plt.title('model accuracy')\n",
    "plt.ylabel('accuracy')\n",
    "plt.xlabel('epoch')\n",
    "plt.legend(['train', 'val'], loc='upper left')\n",
    "#loss\n",
    "plt.subplot(212)\n",
    "plt.plot(history.history['loss'])\n",
    "plt.plot(history.history['val_loss'])\n",
    "plt.title('model loss')\n",
    "plt.ylabel('loss')\n",
    "plt.xlabel('epoch')\n",
    "plt.legend(['train', 'val'], loc='upper left')\n",
    "\n",
    "plt.tight_layout()\n",
    "plt.show()\n",
    "\n",
    "score = model.evaluate(X, Y, verbose=1)\n",
    "print('Test loss:', score[0])\n",
    "print('Test accuracy:', score[1])"
   ]
  },
  {
   "cell_type": "code",
   "execution_count": null,
   "id": "03424ea2-7e32-4ac5-bce1-7aa3449f881e",
   "metadata": {},
   "outputs": [],
   "source": []
  }
 ],
 "metadata": {
  "kernelspec": {
   "display_name": "Python 3 (ipykernel)",
   "language": "python",
   "name": "python3"
  },
  "language_info": {
   "codemirror_mode": {
    "name": "ipython",
    "version": 3
   },
   "file_extension": ".py",
   "mimetype": "text/x-python",
   "name": "python",
   "nbconvert_exporter": "python",
   "pygments_lexer": "ipython3",
   "version": "3.9.7"
  }
 },
 "nbformat": 4,
 "nbformat_minor": 5
}
