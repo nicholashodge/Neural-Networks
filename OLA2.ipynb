{
 "cells": [
  {
   "cell_type": "markdown",
   "id": "265c5e37-7c7a-41b5-a83a-b8c904ae4901",
   "metadata": {},
   "source": [
    "# Nicholas Hodge<br> OLA 3"
   ]
  },
  {
   "cell_type": "code",
   "execution_count": 94,
   "id": "8cabe57a-6e29-464a-a590-10d23e1110c7",
   "metadata": {},
   "outputs": [],
   "source": [
    "import numpy as np\n",
    "import sympy as sp\n",
    "\n",
    "sp.init_printing(use_latex=True)\n",
    "import scipy.spatial.distance as ssd\n",
    "\n",
    "import matplotlib.pyplot as plt\n",
    "%matplotlib inline"
   ]
  },
  {
   "cell_type": "markdown",
   "id": "db0caea6-9cc0-40df-8098-d81e6d3fd6b9",
   "metadata": {},
   "source": [
    "### Problem 1"
   ]
  },
  {
   "cell_type": "code",
   "execution_count": 95,
   "id": "972c0e82-1b05-4fd8-b533-b47b03a32278",
   "metadata": {},
   "outputs": [
    {
     "name": "stdout",
     "output_type": "stream",
     "text": [
      "L2-norm: 9.643651\n",
      "L1-norm: 15.000000\n"
     ]
    }
   ],
   "source": [
    "x = np.array([5, 2, 8])\n",
    "print(\"L2-norm: %f\"%np.sqrt(np.dot(x, x)))\n",
    "print('L1-norm: %f'%np.linalg.norm(x, 1))"
   ]
  },
  {
   "cell_type": "markdown",
   "id": "66ccfb03-02fa-49f5-8617-927852b6abfa",
   "metadata": {},
   "source": [
    "### Problem 2"
   ]
  },
  {
   "cell_type": "code",
   "execution_count": 96,
   "id": "65c4f764-8351-47a4-bc96-a74774eab6fb",
   "metadata": {},
   "outputs": [
    {
     "name": "stdout",
     "output_type": "stream",
     "text": [
      "Euclidean: 7.280110\n",
      "Cosine Distance: 0.251730\n"
     ]
    }
   ],
   "source": [
    "y = np.array([1, 3, 2])\n",
    "print('Euclidean: %f'%ssd.minkowski(x,y,2))\n",
    "print('Cosine Distance: %f'%ssd.cosine(x,y))"
   ]
  },
  {
   "cell_type": "markdown",
   "id": "5166f679-c5ae-4479-a3dd-d37022aa8c41",
   "metadata": {},
   "source": [
    "### Problem 3"
   ]
  },
  {
   "cell_type": "code",
   "execution_count": 97,
   "id": "d4e4b60b-760c-4275-a35a-9f4b8892ad8d",
   "metadata": {},
   "outputs": [
    {
     "data": {
      "image/png": "[encoded data removed]",
      "text/latex": [
       "$\\displaystyle A = \\left[\\begin{matrix}1 & 2 & 3\\\\4 & 5 & 6\\\\7 & 8 & 9\\\\10 & 11 & 12\\\\13 & 14 & 15\\end{matrix}\\right]$"
      ],
      "text/plain": [
       "    ⎡1   2   3 ⎤\n",
       "    ⎢          ⎥\n",
       "    ⎢4   5   6 ⎥\n",
       "    ⎢          ⎥\n",
       "A = ⎢7   8   9 ⎥\n",
       "    ⎢          ⎥\n",
       "    ⎢10  11  12⎥\n",
       "    ⎢          ⎥\n",
       "    ⎣13  14  15⎦"
      ]
     },
     "execution_count": 97,
     "metadata": {},
     "output_type": "execute_result"
    }
   ],
   "source": [
    "a = np.array([1, 2, 3])\n",
    "b = np.array([4, 5, 6])\n",
    "c = np.array([7, 8, 9])\n",
    "d = np.array([10, 11, 12])\n",
    "e = np.array([13, 14, 15])\n",
    "arra = np.array([a, b, c, d, e])\n",
    "As = sp.symbols('A')\n",
    "sp.Eq(As, sp.Matrix(arra), evaluate=False)"
   ]
  },
  {
   "cell_type": "markdown",
   "id": "d5e80507-83e2-44b0-9ebc-6bcf93f1410f",
   "metadata": {},
   "source": [
    "### Problem 4"
   ]
  },
  {
   "cell_type": "code",
   "execution_count": 77,
   "id": "1cf98465-e5af-4d90-a096-8ed0910a41f2",
   "metadata": {},
   "outputs": [
    {
     "data": {
      "text/latex": [
       "$\\displaystyle Ax = \\left[\\begin{matrix}5 & 4 & 24\\\\20 & 10 & 48\\\\35 & 16 & 72\\\\50 & 22 & 96\\\\65 & 28 & 120\\end{matrix}\\right]$"
      ],
      "text/plain": [
       "Eq(Ax, Matrix([\n",
       "[ 5,  4,  24],\n",
       "[20, 10,  48],\n",
       "[35, 16,  72],\n",
       "[50, 22,  96],\n",
       "[65, 28, 120]]))"
      ]
     },
     "execution_count": 77,
     "metadata": {},
     "output_type": "execute_result"
    }
   ],
   "source": [
    "AXs = sp.symbols('Ax')\n",
    "sp.Eq(AXs, sp.Matrix(arra * x), evaluate=False)"
   ]
  },
  {
   "cell_type": "code",
   "execution_count": 78,
   "id": "a318d6c0-a423-4adc-8a68-0e990c7cea13",
   "metadata": {},
   "outputs": [
    {
     "data": {
      "text/latex": [
       "$\\displaystyle Ay = \\left[\\begin{matrix}1 & 6 & 6\\\\4 & 15 & 12\\\\7 & 24 & 18\\\\10 & 33 & 24\\\\13 & 42 & 30\\end{matrix}\\right]$"
      ],
      "text/plain": [
       "Eq(Ay, Matrix([\n",
       "[ 1,  6,  6],\n",
       "[ 4, 15, 12],\n",
       "[ 7, 24, 18],\n",
       "[10, 33, 24],\n",
       "[13, 42, 30]]))"
      ]
     },
     "execution_count": 78,
     "metadata": {},
     "output_type": "execute_result"
    }
   ],
   "source": [
    "AYs = sp.symbols('Ay')\n",
    "sp.Eq(AYs, sp.Matrix(arra * y), evaluate=False)"
   ]
  },
  {
   "cell_type": "markdown",
   "id": "1ed38007-8ac6-4052-897c-ef77b4ee685f",
   "metadata": {},
   "source": [
    "### Problem 5"
   ]
  },
  {
   "cell_type": "code",
   "execution_count": 80,
   "id": "0a8cc864-6d90-48d3-8f81-44f45ea1da03",
   "metadata": {},
   "outputs": [
    {
     "data": {
      "text/latex": [
       "$\\displaystyle AB = \\left[\\begin{matrix}38 & 44 & 50 & 56\\\\83 & 98 & 113 & 128\\\\128 & 152 & 176 & 200\\\\173 & 206 & 239 & 272\\\\218 & 260 & 302 & 344\\end{matrix}\\right]$"
      ],
      "text/plain": [
       "Eq(AB, Matrix([\n",
       "[ 38,  44,  50,  56],\n",
       "[ 83,  98, 113, 128],\n",
       "[128, 152, 176, 200],\n",
       "[173, 206, 239, 272],\n",
       "[218, 260, 302, 344]]))"
      ]
     },
     "execution_count": 80,
     "metadata": {},
     "output_type": "execute_result"
    }
   ],
   "source": [
    "f = np.array([1, 2, 3, 4])\n",
    "g = np.array([5, 6, 7, 8])\n",
    "h = np.array([9, 10, 11, 12])\n",
    "arrb = np.array([f, g, h])\n",
    "ABs = sp.symbols('AB')\n",
    "sp.Eq(ABs, sp.Matrix(np.dot(arra, arrb)), evaluate=False)"
   ]
  },
  {
   "cell_type": "markdown",
   "id": "1c7ca883-5357-43ae-9b89-80307250ef65",
   "metadata": {},
   "source": [
    "### Problem 6"
   ]
  },
  {
   "cell_type": "code",
   "execution_count": 106,
   "id": "03ea60b1-f039-4974-93d2-bb93da731908",
   "metadata": {},
   "outputs": [
    {
     "name": "stdout",
     "output_type": "stream",
     "text": [
      "Pairwise Euclidean distance:\n"
     ]
    },
    {
     "data": {
      "image/png": "[encoded data removed]",
      "text/latex": [
       "$\\displaystyle A = \\left[\\begin{matrix}0 & 5.19615242270663 & 10.3923048454133 & 15.5884572681199 & 20.7846096908265\\\\5.19615242270663 & 0 & 5.19615242270663 & 10.3923048454133 & 15.5884572681199\\\\10.3923048454133 & 5.19615242270663 & 0 & 5.19615242270663 & 10.3923048454133\\\\15.5884572681199 & 10.3923048454133 & 5.19615242270663 & 0 & 5.19615242270663\\\\20.7846096908265 & 15.5884572681199 & 10.3923048454133 & 5.19615242270663 & 0\\end{matrix}\\right]$"
      ],
      "text/plain": [
       "    ⎡       0          5.19615242270663  10.3923048454133  15.5884572681199  2\n",
       "    ⎢                                                                         \n",
       "    ⎢5.19615242270663         0          5.19615242270663  10.3923048454133  1\n",
       "    ⎢                                                                         \n",
       "A = ⎢10.3923048454133  5.19615242270663         0          5.19615242270663  1\n",
       "    ⎢                                                                         \n",
       "    ⎢15.5884572681199  10.3923048454133  5.19615242270663         0          5\n",
       "    ⎢                                                                         \n",
       "    ⎣20.7846096908265  15.5884572681199  10.3923048454133  5.19615242270663   \n",
       "\n",
       "0.7846096908265⎤\n",
       "               ⎥\n",
       "5.5884572681199⎥\n",
       "               ⎥\n",
       "0.3923048454133⎥\n",
       "               ⎥\n",
       ".19615242270663⎥\n",
       "               ⎥\n",
       "      0        ⎦"
      ]
     },
     "execution_count": 106,
     "metadata": {},
     "output_type": "execute_result"
    }
   ],
   "source": [
    "print('Pairwise Euclidean distance:')\n",
    "sp.Eq(As, sp.Matrix(ssd.squareform(ssd.pdist(arra,metric='euclidean'))), evaluate=False)"
   ]
  },
  {
   "cell_type": "markdown",
   "id": "401738ae-8d2f-4d9d-9ece-b568613f62b5",
   "metadata": {},
   "source": [
    "### Problem 7"
   ]
  },
  {
   "cell_type": "code",
   "execution_count": 104,
   "id": "53bc91a7-5eb7-4333-bf66-f0eea4377597",
   "metadata": {},
   "outputs": [
    {
     "data": {
      "image/png": "[encoded data removed]",
      "text/latex": [
       "$\\displaystyle C = \\left[\\begin{matrix}30 & 70 & 110\\\\70 & 174 & 278\\\\110 & 278 & 446\\end{matrix}\\right]$"
      ],
      "text/plain": [
       "    ⎡30   70   110⎤\n",
       "    ⎢             ⎥\n",
       "C = ⎢70   174  278⎥\n",
       "    ⎢             ⎥\n",
       "    ⎣110  278  446⎦"
      ]
     },
     "execution_count": 104,
     "metadata": {},
     "output_type": "execute_result"
    }
   ],
   "source": [
    "arrc = np.dot(arrb, arrb.T)\n",
    "Cs = sp.symbols('C')\n",
    "sp.Eq(Cs, sp.Matrix(arrc), evaluate=False)"
   ]
  },
  {
   "cell_type": "markdown",
   "id": "5d7da81e-0ac8-43da-ba03-1999a20ab416",
   "metadata": {},
   "source": [
    "### Problem 8"
   ]
  },
  {
   "cell_type": "code",
   "execution_count": 93,
   "id": "8657646c-87fe-4caa-8178-6d71d6ffea33",
   "metadata": {},
   "outputs": [
    {
     "name": "stdout",
     "output_type": "stream",
     "text": [
      "Eigen Decomposition:\n"
     ]
    },
    {
     "data": {
      "text/latex": [
       "$\\displaystyle C = \\left[\\begin{matrix}-0.206735891257632 & -0.889153307703033 & 0.408248290463864\\\\-0.518288737899116 & -0.254381834061074 & -0.816496580927726\\\\-0.8298415845406 & 0.380389639580891 & 0.408248290463863\\end{matrix}\\right] \\left[\\begin{matrix}647.03260704469 & 0 & 0\\\\0 & 2.96739295530956 & 0\\\\0 & 0 & 4.87870499398046 \\cdot 10^{-14}\\end{matrix}\\right] \\left[\\begin{matrix}-0.206735891257632 & -0.518288737899116 & -0.8298415845406\\\\-0.889153307703033 & -0.254381834061074 & 0.380389639580891\\\\0.408248290463864 & -0.816496580927726 & 0.408248290463863\\end{matrix}\\right]$"
      ],
      "text/plain": [
       "Eq(C, Matrix([\n",
       "[-0.206735891257632, -0.889153307703033,  0.408248290463864],\n",
       "[-0.518288737899116, -0.254381834061074, -0.816496580927726],\n",
       "[  -0.8298415845406,  0.380389639580891,  0.408248290463863]])*Matrix([\n",
       "[647.03260704469,                0,                    0],\n",
       "[              0, 2.96739295530956,                    0],\n",
       "[              0,                0, 4.87870499398046e-14]])*Matrix([\n",
       "[-0.206735891257632, -0.518288737899116,  -0.8298415845406],\n",
       "[-0.889153307703033, -0.254381834061074, 0.380389639580891],\n",
       "[ 0.408248290463864, -0.816496580927726, 0.408248290463863]]))"
      ]
     },
     "execution_count": 93,
     "metadata": {},
     "output_type": "execute_result"
    }
   ],
   "source": [
    "print('Eigen Decomposition:')\n",
    "L, Q = np.linalg.eig(arrc)\n",
    "sp.Eq(Cs, sp.MatMul(sp.Matrix(Q), sp.Matrix(np.diag(L)), sp.Matrix(Q).T, evaluate=False), evaluate=False)"
   ]
  },
  {
   "cell_type": "markdown",
   "id": "565e3e00-8e21-4887-8d2c-6647d2113d67",
   "metadata": {},
   "source": [
    "### Problem 9"
   ]
  },
  {
   "cell_type": "code",
   "execution_count": 98,
   "id": "54a14c71-22d8-4a78-84e8-64f2110e44aa",
   "metadata": {},
   "outputs": [
    {
     "name": "stdout",
     "output_type": "stream",
     "text": [
      "Recalculated:\n"
     ]
    },
    {
     "data": {
      "image/png": "[encoded data removed]",
      "text/latex": [
       "$\\displaystyle C = \\left[\\begin{matrix}30.0 & 70.0 & 110.0\\\\70.0 & 174.0 & 278.0\\\\110.0 & 278.0 & 446.0\\end{matrix}\\right]$"
      ],
      "text/plain": [
       "    ⎡30.0   70.0   110.0⎤\n",
       "    ⎢                   ⎥\n",
       "C = ⎢70.0   174.0  278.0⎥\n",
       "    ⎢                   ⎥\n",
       "    ⎣110.0  278.0  446.0⎦"
      ]
     },
     "execution_count": 98,
     "metadata": {},
     "output_type": "execute_result"
    }
   ],
   "source": [
    "print('Recalculated:')\n",
    "sp.Eq(Cs, sp.Matrix(np.round(np.dot(np.dot(Q, np.diag(L)),Q.T),12)), evaluate=False)"
   ]
  },
  {
   "cell_type": "markdown",
   "id": "970c0309-f37d-49f7-ac03-02440f345fb5",
   "metadata": {},
   "source": [
    "### Problem 10"
   ]
  },
  {
   "cell_type": "code",
   "execution_count": null,
   "id": "8eb63ef2-4ba0-4896-8a02-b1edf69a17d1",
   "metadata": {},
   "outputs": [],
   "source": [
    "print('Singular Value Decomposition:')\n",
    "U, S, V = np.linalg.svd(arrc, full_matrices=True)\n",
    "sp.Eq(Cs, sp.MatMul(sp.Matrix(U), sp.Matrix(np.diag(S)), sp.Matrix(V), evaluate=False), evaluate=False)"
   ]
  },
  {
   "cell_type": "markdown",
   "id": "166847ef-8ee2-4ec6-8dbb-eaa6faf6de93",
   "metadata": {},
   "source": [
    "### Problem 11"
   ]
  },
  {
   "cell_type": "code",
   "execution_count": null,
   "id": "f7765a47-a0c3-42e9-b815-dde305ee212b",
   "metadata": {},
   "outputs": [],
   "source": [
    "print(\"Recalculated:\")\n",
    "sp.Eq(Cs, sp.Matrix(np.round(np.dot(np.dot(U,np.diag(S)),V), 12)), evaluate=False)"
   ]
  },
  {
   "cell_type": "code",
   "execution_count": null,
   "id": "e110a6e4-dc24-4288-8058-a94e37eb41f4",
   "metadata": {},
   "outputs": [],
   "source": []
  }
 ],
 "metadata": {
  "kernelspec": {
   "display_name": "Python 3 (ipykernel)",
   "language": "python",
   "name": "python3"
  },
  "language_info": {
   "codemirror_mode": {
    "name": "ipython",
    "version": 3
   },
   "file_extension": ".py",
   "mimetype": "text/x-python",
   "name": "python",
   "nbconvert_exporter": "python",
   "pygments_lexer": "ipython3",
   "version": "3.9.7"
  }
 },
 "nbformat": 4,
 "nbformat_minor": 5
}
